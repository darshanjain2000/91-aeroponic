{
 "cells": [
  {
   "cell_type": "markdown",
   "metadata": {},
   "source": [
    "# Trueleaf.in"
   ]
  },
  {
   "cell_type": "code",
   "execution_count": 5,
   "metadata": {},
   "outputs": [
    {
     "name": "stdout",
     "output_type": "stream",
     "text": [
      "---------------------------TRUELEAF.IN---------------------------\n",
      "1   Honey Mustard Salad Dressing from Aamra by NSK ( 200 g )------------- ₹ 249\n",
      "2   Lime & Sesame Salad Dressing from Aamra by NSK ( 200 g )------------- ₹ 249\n",
      "3   Peanut Satay Salad Dressing from Aamra by NSK ( 200 g )------------- ₹ 249\n",
      "4   Cardamom & Ginger Honey from Aamra by NSK ( 225 g )------------- ₹ 329\n",
      "5   Orange & Cinnamon Honey from Aamra by NSK ( 225 g )------------- ₹ 329\n",
      "6   Three Pepper Honey from Aamra by NSK ( 225 g )------------- ₹ 329\n",
      "7   Italian Basket ( 1100 g )------------- ₹ 600\n",
      "8   Winter Specials ( 1500 g )------------- ₹ 330\n",
      "9   Thyme in a Jar ( 200 g )------------- ₹ 250\n",
      "10   Dill in a Jar ( 200 g )------------- ₹ 250\n",
      "11   Basil in a Jar ( 200 g )------------- ₹ 200\n",
      "12   Portobello Mushrooms ( 200 g )------------- ₹ 250\n",
      "13   Button Mushrooms ( 200 g )------------- ₹ 60\n",
      "14   Oyster Mushrooms ( 200 g )------------- ₹ 150\n",
      "15   Spicy Leafy Mix ( 150 g )------------- ₹ 150\n",
      "16   Salad Mix ( 150 g )------------- ₹ 150\n",
      "17   Butterhead Lettuce ( 200 g )------------- ₹ 150\n",
      "18   Green Leaf Lettuce ( 200 g )------------- ₹ 90\n",
      "19   Lolla Rossa Lettuce ( 200 g )------------- ₹ 110\n",
      "20   Romaine Lettuce ( 200 g )------------- ₹ 90\n",
      "21   Endives ( 100 g )------------- ₹ 75\n",
      "22   Pok Choi ( 200 g )------------- ₹ 70\n",
      "23   Mizuna ( 100 g )------------- ₹ 100\n",
      "24   Komatsuna - Japanese Mustard Spinach ( 100 g )------------- ₹ 100\n",
      "25   Live Wheatgrass ( 100 g )------------- ₹ 200\n",
      "26   Swiss Chard ( 50 g )------------- ₹ 50\n",
      "27   Celery ( 100 g )------------- ₹ 100\n",
      "28   Kale ( 100 g )------------- ₹ 50\n",
      "29   Herbs Mix ( 100 g )------------- ₹ 100\n",
      "30   Green Mix ( 100 g )------------- ₹ 100\n",
      "31   Rocket ( 50 g )------------- ₹ 70\n",
      "32   Parsley ( 50 g )------------- ₹ 50\n",
      "33   Mint ( 50 g )------------- ₹ 50\n",
      "34   Baby Spinach ( 50 g )------------- ₹ 50\n",
      "35   Basil Leaves ( 50 g )------------- ₹ 50\n",
      "36   Purple Basil ( 50 g )------------- ₹ 50\n",
      "37   Amla ( 500 g )------------- ₹ 80\n",
      "38   Zucchini Blossoms ( 50 g )------------- ₹ 100\n",
      "39   Strawberry ( 150 g )------------- ₹ 150\n",
      "40   Cherry Tomatoes - Red and Yellow Mix ( 150 g )------------- ₹ 90\n",
      "41   Baby Potato ( 500 g )------------- ₹ 60\n",
      "42   Scallions ( 200 g )------------- ₹ 60\n",
      "43   Freshness Bags ( 50 g )------------- ₹ 75\n"
     ]
    }
   ],
   "source": [
    "# TRUELEAF.IN\n",
    "print('---------------------------TRUELEAF.IN---------------------------')\n",
    "import urllib.request, urllib.parse, urllib.error\n",
    "from bs4 import BeautifulSoup\n",
    "\n",
    "count=0\n",
    "prodListName=[]\n",
    "prodListPrice=[]\n",
    "profListQuant=[]\n",
    "page=1 #for pagination\n",
    "\n",
    "while(True):\n",
    "#     dealing pagination for load more product\n",
    "    listurl = urllib.request.urlopen('https://www.trueleaf.in/collections/all-products?page='+str(page)).read() \n",
    "    soup = BeautifulSoup(listurl, 'html.parser')\n",
    "    \n",
    "#     HTML tags invelved with desired output\n",
    "    productName = soup.findAll(\"h4\",{\"class\":\"title-product\"})\n",
    "    productPrice = soup.findAll(\"span\",{\"class\":\"d-none\"})\n",
    "    productquant=soup.findAll(\"div\",{\"class\":\"price\"})\n",
    "    \n",
    "#  variavle to check if there is more product in next page or not\n",
    "    prodListNameOld=len(prodListName)\n",
    "    \n",
    "#     appending details in list\n",
    "    for i in productName:\n",
    "        prodListName.append(i.text)\n",
    "    for i in productPrice:\n",
    "        prodListPrice.append(i.text)\n",
    "    for i in productquant:\n",
    "        profListQuant.append(i.findAll(\"span\")[2].text)\n",
    "        \n",
    "#     logic to check if there is more product in next page or not\n",
    "    if(len(prodListName)-prodListNameOld==0 and page!=1):\n",
    "        break\n",
    "    page=page+1\n",
    "    \n",
    "for i in range(len(prodListName)):\n",
    "    count=count+1\n",
    "    print(\"{0}   {1} ( {2} )------------- {3}\".format(count,prodListName[i],profListQuant[i],prodListPrice[i]))"
   ]
  },
  {
   "cell_type": "markdown",
   "metadata": {},
   "source": [
    "# Farmingv2.com"
   ]
  },
  {
   "cell_type": "code",
   "execution_count": 3,
   "metadata": {},
   "outputs": [],
   "source": [
    "# website not responding"
   ]
  },
  {
   "cell_type": "markdown",
   "metadata": {},
   "source": [
    "# Frugivore.in"
   ]
  },
  {
   "cell_type": "code",
   "execution_count": null,
   "metadata": {},
   "outputs": [],
   "source": []
  },
  {
   "cell_type": "code",
   "execution_count": null,
   "metadata": {},
   "outputs": [],
   "source": []
  }
 ],
 "metadata": {
  "kernelspec": {
   "display_name": "Python 3",
   "language": "python",
   "name": "python3"
  },
  "language_info": {
   "codemirror_mode": {
    "name": "ipython",
    "version": 3
   },
   "file_extension": ".py",
   "mimetype": "text/x-python",
   "name": "python",
   "nbconvert_exporter": "python",
   "pygments_lexer": "ipython3",
   "version": "3.7.3"
  }
 },
 "nbformat": 4,
 "nbformat_minor": 4
}
